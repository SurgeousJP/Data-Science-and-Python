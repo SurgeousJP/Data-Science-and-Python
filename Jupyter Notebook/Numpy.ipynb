{
 "cells": [
  {
   "cell_type": "markdown",
   "id": "a9ad5703",
   "metadata": {},
   "source": [
    "## Numpy Tutorial"
   ]
  },
  {
   "cell_type": "code",
   "execution_count": 1,
   "id": "971bd6bb",
   "metadata": {},
   "outputs": [],
   "source": [
    "import numpy as np"
   ]
  },
  {
   "cell_type": "code",
   "execution_count": 2,
   "id": "579e6496",
   "metadata": {},
   "outputs": [
    {
     "data": {
      "text/plain": [
       "array([0, 1, 2, 3, 4, 5])"
      ]
     },
     "execution_count": 2,
     "metadata": {},
     "output_type": "execute_result"
    }
   ],
   "source": [
    "# Create a numpy array:\n",
    "a = np.array([i for i in range(6)])\n",
    "a"
   ]
  },
  {
   "cell_type": "code",
   "execution_count": 4,
   "id": "1fb5e066",
   "metadata": {},
   "outputs": [
    {
     "data": {
      "text/plain": [
       "(0, 1)"
      ]
     },
     "execution_count": 4,
     "metadata": {},
     "output_type": "execute_result"
    }
   ],
   "source": [
    "# Access to numpy array element (the same as Python list)\n",
    "a[0], a[1]"
   ]
  },
  {
   "cell_type": "code",
   "execution_count": 7,
   "id": "ffdd06b5",
   "metadata": {},
   "outputs": [
    {
     "data": {
      "text/plain": [
       "array([0, 2, 5])"
      ]
     },
     "execution_count": 7,
     "metadata": {},
     "output_type": "execute_result"
    }
   ],
   "source": [
    "# New functions to get list contain indices U want to select (only in numpy)\n",
    "b = a[[0, 2, -1]]\n",
    "b"
   ]
  },
  {
   "cell_type": "markdown",
   "id": "954af5e7",
   "metadata": {},
   "source": [
    "### Get array type:"
   ]
  },
  {
   "cell_type": "code",
   "execution_count": 8,
   "id": "43e21cc2",
   "metadata": {},
   "outputs": [
    {
     "data": {
      "text/plain": [
       "dtype('int32')"
      ]
     },
     "execution_count": 8,
     "metadata": {},
     "output_type": "execute_result"
    }
   ],
   "source": [
    "# Get array type: dtype \n",
    "a.dtype"
   ]
  },
  {
   "cell_type": "markdown",
   "id": "2a42d8d7",
   "metadata": {},
   "source": [
    "### Dimensions and Shapes"
   ]
  },
  {
   "cell_type": "code",
   "execution_count": 16,
   "id": "e757c0eb",
   "metadata": {},
   "outputs": [],
   "source": [
    "# Create a 2D array\n",
    "A = np.array([\n",
    "#   0.  1. 2.\n",
    "    [1, 2, 3], # 0\n",
    "    [4, 5, 6], # 1\n",
    "    [7, 8, 9]  # 2\n",
    "])"
   ]
  },
  {
   "cell_type": "code",
   "execution_count": 11,
   "id": "ad6dc1ad",
   "metadata": {},
   "outputs": [
    {
     "data": {
      "text/plain": [
       "(3, 3)"
      ]
     },
     "execution_count": 11,
     "metadata": {},
     "output_type": "execute_result"
    }
   ],
   "source": [
    "# print shape\n",
    "A.shape"
   ]
  },
  {
   "cell_type": "code",
   "execution_count": 12,
   "id": "227e9567",
   "metadata": {},
   "outputs": [
    {
     "data": {
      "text/plain": [
       "2"
      ]
     },
     "execution_count": 12,
     "metadata": {},
     "output_type": "execute_result"
    }
   ],
   "source": [
    "# number of dimension\n",
    "A.ndim"
   ]
  },
  {
   "cell_type": "code",
   "execution_count": 14,
   "id": "3f42b617",
   "metadata": {},
   "outputs": [
    {
     "data": {
      "text/plain": [
       "9"
      ]
     },
     "execution_count": 14,
     "metadata": {},
     "output_type": "execute_result"
    }
   ],
   "source": [
    "# Size of numpy array (the number of total elements):\n",
    "A.size"
   ]
  },
  {
   "cell_type": "markdown",
   "id": "9da31ec7",
   "metadata": {},
   "source": [
    "### Note: If the shape is not consistent, it will fall back to Python object type"
   ]
  },
  {
   "cell_type": "markdown",
   "id": "f6b0e5fe",
   "metadata": {},
   "source": [
    "### Indexing and Slicing Matrices"
   ]
  },
  {
   "cell_type": "code",
   "execution_count": 19,
   "id": "bad3918e",
   "metadata": {},
   "outputs": [
    {
     "data": {
      "text/plain": [
       "array([4, 5, 6])"
      ]
     },
     "execution_count": 19,
     "metadata": {},
     "output_type": "execute_result"
    }
   ],
   "source": [
    "A[1] # get a row"
   ]
  },
  {
   "cell_type": "code",
   "execution_count": 20,
   "id": "06f3502c",
   "metadata": {},
   "outputs": [
    {
     "data": {
      "text/plain": [
       "4"
      ]
     },
     "execution_count": 20,
     "metadata": {},
     "output_type": "execute_result"
    }
   ],
   "source": [
    "A[1, 0] # get an element "
   ]
  },
  {
   "cell_type": "code",
   "execution_count": 21,
   "id": "b8598e16",
   "metadata": {},
   "outputs": [
    {
     "data": {
      "text/plain": [
       "array([[1, 2, 3],\n",
       "       [4, 5, 6]])"
      ]
     },
     "execution_count": 21,
     "metadata": {},
     "output_type": "execute_result"
    }
   ],
   "source": [
    "A[0:2]"
   ]
  },
  {
   "cell_type": "code",
   "execution_count": 22,
   "id": "44f831a8",
   "metadata": {},
   "outputs": [],
   "source": [
    "# Using numpy helps a lot in indicing"
   ]
  },
  {
   "cell_type": "markdown",
   "id": "ef376c0f",
   "metadata": {},
   "source": [
    "### Summary Statistics"
   ]
  },
  {
   "cell_type": "code",
   "execution_count": 26,
   "id": "a91c2f82",
   "metadata": {},
   "outputs": [
    {
     "data": {
      "text/plain": [
       "45"
      ]
     },
     "execution_count": 26,
     "metadata": {},
     "output_type": "execute_result"
    }
   ],
   "source": [
    "# sum, mean, standard deviation (even for matrices)\n",
    "A.sum()"
   ]
  },
  {
   "cell_type": "code",
   "execution_count": 27,
   "id": "b781af67",
   "metadata": {},
   "outputs": [
    {
     "data": {
      "text/plain": [
       "5.0"
      ]
     },
     "execution_count": 27,
     "metadata": {},
     "output_type": "execute_result"
    }
   ],
   "source": [
    "A.mean()"
   ]
  },
  {
   "cell_type": "code",
   "execution_count": 28,
   "id": "22038120",
   "metadata": {},
   "outputs": [
    {
     "data": {
      "text/plain": [
       "2.581988897471611"
      ]
     },
     "execution_count": 28,
     "metadata": {},
     "output_type": "execute_result"
    }
   ],
   "source": [
    "A.std()"
   ]
  },
  {
   "cell_type": "markdown",
   "id": "500f1c9f",
   "metadata": {},
   "source": [
    "### Broadcasting and Vectorised operations"
   ]
  },
  {
   "cell_type": "code",
   "execution_count": 29,
   "id": "b401fa47",
   "metadata": {},
   "outputs": [],
   "source": [
    "# create an array in range given\n",
    "arr = np.arange(4)"
   ]
  },
  {
   "cell_type": "code",
   "execution_count": 30,
   "id": "36333ae1",
   "metadata": {},
   "outputs": [
    {
     "data": {
      "text/plain": [
       "array([0, 1, 2, 3])"
      ]
     },
     "execution_count": 30,
     "metadata": {},
     "output_type": "execute_result"
    }
   ],
   "source": [
    "arr"
   ]
  },
  {
   "cell_type": "code",
   "execution_count": 32,
   "id": "6cb20945",
   "metadata": {},
   "outputs": [
    {
     "data": {
      "text/plain": [
       "array([10, 11, 12, 13])"
      ]
     },
     "execution_count": 32,
     "metadata": {},
     "output_type": "execute_result"
    }
   ],
   "source": [
    "# With numpy array, you can add, multiply, ... a number with every element in that array\n",
    "arr + 10"
   ]
  },
  {
   "cell_type": "code",
   "execution_count": 33,
   "id": "fcc7c2bf",
   "metadata": {},
   "outputs": [
    {
     "data": {
      "text/plain": [
       "array([ 0, 10, 20, 30])"
      ]
     },
     "execution_count": 33,
     "metadata": {},
     "output_type": "execute_result"
    }
   ],
   "source": [
    "arr * 10"
   ]
  },
  {
   "cell_type": "code",
   "execution_count": 34,
   "id": "817beb98",
   "metadata": {},
   "outputs": [
    {
     "data": {
      "text/plain": [
       "array([-10,  -9,  -8,  -7])"
      ]
     },
     "execution_count": 34,
     "metadata": {},
     "output_type": "execute_result"
    }
   ],
   "source": [
    "arr - 10"
   ]
  },
  {
   "cell_type": "code",
   "execution_count": 36,
   "id": "44c8b8cb",
   "metadata": {},
   "outputs": [
    {
     "data": {
      "text/plain": [
       "array([0. , 0.1, 0.2, 0.3])"
      ]
     },
     "execution_count": 36,
     "metadata": {},
     "output_type": "execute_result"
    }
   ],
   "source": [
    "arr / 10"
   ]
  },
  {
   "cell_type": "code",
   "execution_count": 37,
   "id": "e8be8a2e",
   "metadata": {},
   "outputs": [],
   "source": [
    "# You can also broadcasting (change size of two array to suit in operations), which has already been done before by ya :>"
   ]
  },
  {
   "cell_type": "markdown",
   "id": "0d0fd751",
   "metadata": {},
   "source": [
    "### Linear Algebra (Dai so tuyen tinh)"
   ]
  },
  {
   "cell_type": "code",
   "execution_count": 3,
   "id": "36698b9b",
   "metadata": {},
   "outputs": [],
   "source": [
    "A = np.array(\n",
    "    [[1, 2, 3],\n",
    "    [4, 5, 6],\n",
    "    [7, 8, 9]])"
   ]
  },
  {
   "cell_type": "code",
   "execution_count": 5,
   "id": "eef40538",
   "metadata": {},
   "outputs": [],
   "source": [
    "B = np.array([\n",
    "    [6, 5],\n",
    "    [4, 3],\n",
    "    [2, 1]\n",
    "])"
   ]
  },
  {
   "cell_type": "code",
   "execution_count": 7,
   "id": "a59319c0",
   "metadata": {
    "scrolled": true
   },
   "outputs": [
    {
     "data": {
      "text/plain": [
       "array([[20, 14],\n",
       "       [56, 41],\n",
       "       [92, 68]])"
      ]
     },
     "execution_count": 7,
     "metadata": {},
     "output_type": "execute_result"
    }
   ],
   "source": [
    "# Multiply two matrices\n",
    "A.dot(B) "
   ]
  },
  {
   "cell_type": "code",
   "execution_count": 8,
   "id": "20df6e4f",
   "metadata": {
    "scrolled": true
   },
   "outputs": [
    {
     "data": {
      "text/plain": [
       "array([[20, 14],\n",
       "       [56, 41],\n",
       "       [92, 68]])"
      ]
     },
     "execution_count": 8,
     "metadata": {},
     "output_type": "execute_result"
    }
   ],
   "source": [
    "A @ B"
   ]
  },
  {
   "cell_type": "code",
   "execution_count": 9,
   "id": "7b2f6d0f",
   "metadata": {
    "scrolled": true
   },
   "outputs": [
    {
     "data": {
      "text/plain": [
       "array([[6, 4, 2],\n",
       "       [5, 3, 1]])"
      ]
     },
     "execution_count": 9,
     "metadata": {},
     "output_type": "execute_result"
    }
   ],
   "source": [
    "# row -> col & col -> row\n",
    "B.T"
   ]
  },
  {
   "cell_type": "markdown",
   "id": "0f5f8dde",
   "metadata": {},
   "source": [
    "### Useful Numpy Functions:"
   ]
  },
  {
   "cell_type": "markdown",
   "id": "a85750b8",
   "metadata": {},
   "source": [
    "`reshape`: shape the list to the shape designated\n",
    "\n",
    "`linspace`: create a numpy array with equal increase (e.g [1, 3, 5])\n",
    "\n",
    "`zeros`, `ones`, `empty`: create array with 0, 1 or nothing\n",
    "\n",
    "`identity`, `eye`: matrix whose diagonal is equal to a value, and else is 0"
   ]
  },
  {
   "cell_type": "markdown",
   "id": "f6672fdd",
   "metadata": {},
   "source": [
    "## Numpy exercises"
   ]
  },
  {
   "cell_type": "code",
   "execution_count": 40,
   "id": "dbd43e83",
   "metadata": {},
   "outputs": [
    {
     "name": "stdout",
     "output_type": "stream",
     "text": [
      "1.21.5\n"
     ]
    }
   ],
   "source": [
    "# Import the numpy package under the name np\n",
    "import numpy as np\n",
    "\n",
    "# Print the numpy version and the configuration\n",
    "print(np.__version__)"
   ]
  },
  {
   "cell_type": "markdown",
   "id": "21d774b4",
   "metadata": {},
   "source": [
    "### Array creation"
   ]
  },
  {
   "cell_type": "code",
   "execution_count": 42,
   "id": "df7777ea",
   "metadata": {},
   "outputs": [
    {
     "data": {
      "text/plain": [
       "array([0., 0., 0., 0., 0., 0., 0., 0., 0., 0.])"
      ]
     },
     "execution_count": 42,
     "metadata": {},
     "output_type": "execute_result"
    }
   ],
   "source": [
    "# Create a numpy array of size 10, filled with zeros.\n",
    "np.zeros(10)"
   ]
  },
  {
   "cell_type": "code",
   "execution_count": 43,
   "id": "1f3318ab",
   "metadata": {},
   "outputs": [
    {
     "data": {
      "text/plain": [
       "array([10, 11, 12, 13, 14, 15, 16, 17, 18, 19, 20, 21, 22, 23, 24, 25, 26,\n",
       "       27, 28, 29, 30, 31, 32, 33, 34, 35, 36, 37, 38, 39, 40, 41, 42, 43,\n",
       "       44, 45, 46, 47, 48, 49])"
      ]
     },
     "execution_count": 43,
     "metadata": {},
     "output_type": "execute_result"
    }
   ],
   "source": [
    "# Create a numpy array with values ranging from 10 to 49\n",
    "np.arange(10, 50)"
   ]
  },
  {
   "cell_type": "code",
   "execution_count": 47,
   "id": "31ac178d",
   "metadata": {},
   "outputs": [
    {
     "data": {
      "text/plain": [
       "array([[1, 1],\n",
       "       [1, 1]])"
      ]
     },
     "execution_count": 47,
     "metadata": {},
     "output_type": "execute_result"
    }
   ],
   "source": [
    "# Create a numpy matrix of 2*2 integers, filled with ones.\n",
    "np.ones((2,2),dtype=int) # remember shape is a tuple :>"
   ]
  },
  {
   "cell_type": "code",
   "execution_count": 48,
   "id": "65add835",
   "metadata": {},
   "outputs": [
    {
     "data": {
      "text/plain": [
       "array([[1., 1.],\n",
       "       [1., 1.],\n",
       "       [1., 1.]])"
      ]
     },
     "execution_count": 48,
     "metadata": {},
     "output_type": "execute_result"
    }
   ],
   "source": [
    "# Create a numpy matrix of 3*2 float numbers, filled with ones.\n",
    "np.ones((3,2), dtype=float)"
   ]
  },
  {
   "cell_type": "code",
   "execution_count": 49,
   "id": "d856086f",
   "metadata": {},
   "outputs": [
    {
     "data": {
      "text/plain": [
       "array([[1., 1., 1.],\n",
       "       [1., 1., 1.],\n",
       "       [1., 1., 1.]])"
      ]
     },
     "execution_count": 49,
     "metadata": {},
     "output_type": "execute_result"
    }
   ],
   "source": [
    "# Given the X numpy array, create a new numpy array with the same shape and type as X, filled with ones.\n",
    "np.ones(A.shape)"
   ]
  },
  {
   "cell_type": "code",
   "execution_count": 50,
   "id": "23e948ee",
   "metadata": {},
   "outputs": [
    {
     "data": {
      "text/plain": [
       "array([[0., 0., 0.],\n",
       "       [0., 0., 0.],\n",
       "       [0., 0., 0.]])"
      ]
     },
     "execution_count": 50,
     "metadata": {},
     "output_type": "execute_result"
    }
   ],
   "source": [
    "# Given the X numpy matrix, create a new numpy matrix with the same shape and type as X, filled with zeros.\n",
    "np.zeros(A.shape)"
   ]
  },
  {
   "cell_type": "code",
   "execution_count": 53,
   "id": "f2824030",
   "metadata": {},
   "outputs": [
    {
     "data": {
      "text/plain": [
       "array([[0, 0, 0],\n",
       "       [0, 0, 0],\n",
       "       [0, 0, 0]])"
      ]
     },
     "execution_count": 53,
     "metadata": {},
     "output_type": "execute_result"
    }
   ],
   "source": [
    "# there's another way to do it is using _likes function\n",
    "np.zeros_like(A)"
   ]
  },
  {
   "cell_type": "code",
   "execution_count": 51,
   "id": "07565235",
   "metadata": {},
   "outputs": [
    {
     "data": {
      "text/plain": [
       "array([[5, 5, 5, 5],\n",
       "       [5, 5, 5, 5],\n",
       "       [5, 5, 5, 5],\n",
       "       [5, 5, 5, 5]])"
      ]
     },
     "execution_count": 51,
     "metadata": {},
     "output_type": "execute_result"
    }
   ],
   "source": [
    "# Create a numpy matrix of 4*4 integers, filled with fives.\n",
    "np.zeros((4, 4), dtype = int) + 5"
   ]
  },
  {
   "cell_type": "code",
   "execution_count": 52,
   "id": "26bd7438",
   "metadata": {},
   "outputs": [
    {
     "data": {
      "text/plain": [
       "array([[7., 7., 7.],\n",
       "       [7., 7., 7.],\n",
       "       [7., 7., 7.]])"
      ]
     },
     "execution_count": 52,
     "metadata": {},
     "output_type": "execute_result"
    }
   ],
   "source": [
    "#  Given the X numpy matrix, create a new numpy matrix with the same shape and type as X, filled with sevens.\n",
    "np.ones(A.shape) * 7"
   ]
  },
  {
   "cell_type": "code",
   "execution_count": 59,
   "id": "a3def7a7",
   "metadata": {},
   "outputs": [
    {
     "data": {
      "text/plain": [
       "array([[1., 0., 0.],\n",
       "       [0., 1., 0.],\n",
       "       [0., 0., 1.]])"
      ]
     },
     "execution_count": 59,
     "metadata": {},
     "output_type": "execute_result"
    }
   ],
   "source": [
    "# Create a 3*3 identity numpy matrix with ones on the diagonal and zeros elsewhere.\n",
    "# identity matrix (ma tran duong cheo)\n",
    "# np.eye(3) (applies to 2D array)\n",
    "np.identity(3)"
   ]
  },
  {
   "cell_type": "code",
   "execution_count": 62,
   "id": "8afcfbd3",
   "metadata": {},
   "outputs": [
    {
     "data": {
      "text/plain": [
       "array([0, 9, 0])"
      ]
     },
     "execution_count": 62,
     "metadata": {},
     "output_type": "execute_result"
    }
   ],
   "source": [
    "# Create a numpy array, filled with 3 random integer values between 1 and 10.\n",
    "np.random.randint(10, size=3)"
   ]
  },
  {
   "cell_type": "code",
   "execution_count": 64,
   "id": "106ae5c6",
   "metadata": {},
   "outputs": [
    {
     "data": {
      "text/plain": [
       "array([[[0.06979239, 0.11611412, 0.18493389],\n",
       "        [0.2853438 , 0.96489796, 0.00664227],\n",
       "        [0.08622638, 0.75131949, 0.51798252]],\n",
       "\n",
       "       [[0.04588842, 0.90017262, 0.21327756],\n",
       "        [0.23468314, 0.13098656, 0.53282621],\n",
       "        [0.72635244, 0.32526988, 0.6366995 ]],\n",
       "\n",
       "       [[0.09387003, 0.69402741, 0.24086184],\n",
       "        [0.42649249, 0.67657671, 0.25680136],\n",
       "        [0.49826412, 0.12773744, 0.70048135]]])"
      ]
     },
     "execution_count": 64,
     "metadata": {},
     "output_type": "execute_result"
    }
   ],
   "source": [
    "# Create a 3*3*3 numpy matrix, filled with random float values.\n",
    "np.random.random((3,3,3))"
   ]
  },
  {
   "cell_type": "code",
   "execution_count": 65,
   "id": "1f14bbc5",
   "metadata": {},
   "outputs": [
    {
     "data": {
      "text/plain": [
       "array([0, 9, 6, 0])"
      ]
     },
     "execution_count": 65,
     "metadata": {},
     "output_type": "execute_result"
    }
   ],
   "source": [
    "# Given the X python list convert it to an Y numpy array\n",
    "lst = [0, 9, 6, 0]\n",
    "Y = np.array(lst)\n",
    "Y"
   ]
  },
  {
   "cell_type": "code",
   "execution_count": 67,
   "id": "c1d48b33",
   "metadata": {},
   "outputs": [
    {
     "data": {
      "text/plain": [
       "array([1, 1, 3, 2])"
      ]
     },
     "execution_count": 67,
     "metadata": {},
     "output_type": "execute_result"
    }
   ],
   "source": [
    "# Given the X numpy array, make a copy and store it on Y.\n",
    "x = np.array([1, 1, 3, 2])\n",
    "y = np.copy(x)\n",
    "y"
   ]
  },
  {
   "cell_type": "code",
   "execution_count": 68,
   "id": "060812e5",
   "metadata": {},
   "outputs": [
    {
     "data": {
      "text/plain": [
       "array([ 0,  1,  2,  3,  4,  5,  6,  7,  8,  9, 10])"
      ]
     },
     "execution_count": 68,
     "metadata": {},
     "output_type": "execute_result"
    }
   ],
   "source": [
    "# Create a numpy array with numbers from 1 to 10\n",
    "np.arange(11)"
   ]
  },
  {
   "cell_type": "code",
   "execution_count": 69,
   "id": "76731151",
   "metadata": {},
   "outputs": [
    {
     "data": {
      "text/plain": [
       "array([1, 3, 5, 7, 9])"
      ]
     },
     "execution_count": 69,
     "metadata": {},
     "output_type": "execute_result"
    }
   ],
   "source": [
    "# Create a numpy array with the odd numbers between 1 to 10\n",
    "np.arange(1, 11, 2)"
   ]
  },
  {
   "cell_type": "code",
   "execution_count": 70,
   "id": "2493a6bc",
   "metadata": {},
   "outputs": [
    {
     "data": {
      "text/plain": [
       "array([10,  9,  8,  7,  6,  5,  4,  3,  2,  1])"
      ]
     },
     "execution_count": 70,
     "metadata": {},
     "output_type": "execute_result"
    }
   ],
   "source": [
    "# Create a numpy array with numbers from 1 to 10, in descending order.\n",
    "np.arange(1, 11)[::-1]"
   ]
  },
  {
   "cell_type": "code",
   "execution_count": 71,
   "id": "cf688bd2",
   "metadata": {},
   "outputs": [
    {
     "data": {
      "text/plain": [
       "array([[0, 1, 2],\n",
       "       [3, 4, 5],\n",
       "       [6, 7, 8]])"
      ]
     },
     "execution_count": 71,
     "metadata": {},
     "output_type": "execute_result"
    }
   ],
   "source": [
    "# Create a 3*3 numpy matrix, filled with values ranging from 0 to 8\n",
    "np.arange(9).reshape(3, 3)"
   ]
  },
  {
   "cell_type": "code",
   "execution_count": 72,
   "id": "321c8b41",
   "metadata": {},
   "outputs": [
    {
     "name": "stdout",
     "output_type": "stream",
     "text": [
      "800 bytes\n"
     ]
    }
   ],
   "source": [
    "# Show the memory size of the given Z numpy matrix\n",
    "Z = np.zeros((10,10))\n",
    "\n",
    "print(\"%d bytes\" % (Z.size * Z.itemsize))"
   ]
  },
  {
   "cell_type": "markdown",
   "id": "604a17b7",
   "metadata": {},
   "source": [
    "### Array indexation"
   ]
  },
  {
   "cell_type": "code",
   "execution_count": 2,
   "id": "6c2879df",
   "metadata": {},
   "outputs": [
    {
     "data": {
      "text/plain": [
       "'A'"
      ]
     },
     "execution_count": 2,
     "metadata": {},
     "output_type": "execute_result"
    }
   ],
   "source": [
    "# Given the X numpy array, show it's first element\n",
    "X = np.array(['A','B','C','D','E'])\n",
    "X[0]"
   ]
  },
  {
   "cell_type": "code",
   "execution_count": 3,
   "id": "918ea090",
   "metadata": {},
   "outputs": [
    {
     "data": {
      "text/plain": [
       "'E'"
      ]
     },
     "execution_count": 3,
     "metadata": {},
     "output_type": "execute_result"
    }
   ],
   "source": [
    "# Given the X numpy array, show it's last element\n",
    "X[-1]"
   ]
  },
  {
   "cell_type": "code",
   "execution_count": 4,
   "id": "dada81a1",
   "metadata": {},
   "outputs": [
    {
     "data": {
      "text/plain": [
       "array(['A', 'B', 'C'], dtype='<U1')"
      ]
     },
     "execution_count": 4,
     "metadata": {},
     "output_type": "execute_result"
    }
   ],
   "source": [
    "# Given the X numpy array, show it's first three elements\n",
    "X[0:3]"
   ]
  },
  {
   "cell_type": "code",
   "execution_count": 5,
   "id": "553c5f49",
   "metadata": {},
   "outputs": [
    {
     "data": {
      "text/plain": [
       "array(['B', 'C', 'D'], dtype='<U1')"
      ]
     },
     "execution_count": 5,
     "metadata": {},
     "output_type": "execute_result"
    }
   ],
   "source": [
    "# Given the X numpy array, show all middle elements\n",
    "X[1:-1]"
   ]
  },
  {
   "cell_type": "code",
   "execution_count": 6,
   "id": "7614ff78",
   "metadata": {},
   "outputs": [
    {
     "data": {
      "text/plain": [
       "array(['E', 'D', 'C', 'B', 'A'], dtype='<U1')"
      ]
     },
     "execution_count": 6,
     "metadata": {},
     "output_type": "execute_result"
    }
   ],
   "source": [
    "# Given the X numpy array, show the elements in reverse position\n",
    "X[::-1]"
   ]
  },
  {
   "cell_type": "code",
   "execution_count": 7,
   "id": "1b223121",
   "metadata": {},
   "outputs": [
    {
     "data": {
      "text/plain": [
       "array(['A', 'C', 'E'], dtype='<U1')"
      ]
     },
     "execution_count": 7,
     "metadata": {},
     "output_type": "execute_result"
    }
   ],
   "source": [
    "# Given the X numpy array, show the elements in an odd position\n",
    "X[::2]"
   ]
  },
  {
   "cell_type": "code",
   "execution_count": 8,
   "id": "cbd20ca1",
   "metadata": {},
   "outputs": [
    {
     "data": {
      "text/plain": [
       "array([1, 2, 3, 4])"
      ]
     },
     "execution_count": 8,
     "metadata": {},
     "output_type": "execute_result"
    }
   ],
   "source": [
    "# Given the X numpy matrix, show the first row elements\n",
    "X = np.array([\n",
    "    [1,   2,  3,  4],\n",
    "    [5,   6,  7,  8],\n",
    "    [9,  10, 11, 12],\n",
    "    [13, 14, 15, 16]\n",
    "])\n",
    "X[0]"
   ]
  },
  {
   "cell_type": "code",
   "execution_count": 9,
   "id": "237f96f1",
   "metadata": {},
   "outputs": [
    {
     "data": {
      "text/plain": [
       "array([13, 14, 15, 16])"
      ]
     },
     "execution_count": 9,
     "metadata": {},
     "output_type": "execute_result"
    }
   ],
   "source": [
    "# Given the X numpy matrix, show the last row elements\n",
    "X[-1]"
   ]
  },
  {
   "cell_type": "code",
   "execution_count": 10,
   "id": "b081d502",
   "metadata": {},
   "outputs": [
    {
     "data": {
      "text/plain": [
       "1"
      ]
     },
     "execution_count": 10,
     "metadata": {},
     "output_type": "execute_result"
    }
   ],
   "source": [
    "# Given the X numpy matrix, show the first element on first row\n",
    "X[0, 0]"
   ]
  },
  {
   "cell_type": "code",
   "execution_count": 11,
   "id": "3a0834e2",
   "metadata": {},
   "outputs": [
    {
     "data": {
      "text/plain": [
       "16"
      ]
     },
     "execution_count": 11,
     "metadata": {},
     "output_type": "execute_result"
    }
   ],
   "source": [
    "# Given the X numpy matrix, show the last element on last row\n",
    "X[-1, -1]"
   ]
  },
  {
   "cell_type": "code",
   "execution_count": 12,
   "id": "02b3349b",
   "metadata": {},
   "outputs": [
    {
     "data": {
      "text/plain": [
       "array([[ 5,  6,  7,  8],\n",
       "       [ 9, 10, 11, 12]])"
      ]
     },
     "execution_count": 12,
     "metadata": {},
     "output_type": "execute_result"
    }
   ],
   "source": [
    "# Given the X numpy matrix, show the middle row elements\n",
    "X[1:-1]"
   ]
  },
  {
   "cell_type": "code",
   "execution_count": 20,
   "id": "99e0ce76",
   "metadata": {},
   "outputs": [
    {
     "data": {
      "text/plain": [
       "array([[1, 2],\n",
       "       [5, 6]])"
      ]
     },
     "execution_count": 20,
     "metadata": {},
     "output_type": "execute_result"
    }
   ],
   "source": [
    "# Given the X numpy matrix, show the first two elements on the first two rows\n",
    "X[0:2, 0:2]"
   ]
  },
  {
   "cell_type": "code",
   "execution_count": 24,
   "id": "950e743c",
   "metadata": {},
   "outputs": [
    {
     "data": {
      "text/plain": [
       "array([[11, 12],\n",
       "       [15, 16]])"
      ]
     },
     "execution_count": 24,
     "metadata": {},
     "output_type": "execute_result"
    }
   ],
   "source": [
    "# Given the X numpy matrix, show the last two elements on the last two rows\n",
    "X[2:, 2:]"
   ]
  },
  {
   "cell_type": "markdown",
   "id": "8530d8ce",
   "metadata": {},
   "source": [
    "### Array Manipulation"
   ]
  },
  {
   "cell_type": "code",
   "execution_count": 31,
   "id": "6dcd1018",
   "metadata": {},
   "outputs": [
    {
     "data": {
      "text/plain": [
       "array([-5., -3.,  0., 10., 40.])"
      ]
     },
     "execution_count": 31,
     "metadata": {},
     "output_type": "execute_result"
    }
   ],
   "source": [
    "# Convert the given integer numpy array to float\n",
    "X = [-5, -3, 0, 10, 40]\n",
    "X = np.array(X, float)\n",
    "X"
   ]
  },
  {
   "cell_type": "code",
   "execution_count": 32,
   "id": "900a5237",
   "metadata": {},
   "outputs": [
    {
     "data": {
      "text/plain": [
       "array([40., 10.,  0., -3., -5.])"
      ]
     },
     "execution_count": 32,
     "metadata": {},
     "output_type": "execute_result"
    }
   ],
   "source": [
    "# Reverse the given numpy array (first element becomes last)\n",
    "Y = np.array(X[::-1])\n",
    "Y"
   ]
  },
  {
   "cell_type": "code",
   "execution_count": 38,
   "id": "30c30252",
   "metadata": {},
   "outputs": [
    {
     "data": {
      "text/plain": [
       "array([-5., -3.,  0., 10., 40.])"
      ]
     },
     "execution_count": 38,
     "metadata": {},
     "output_type": "execute_result"
    }
   ],
   "source": [
    "# Order (sort) the given numpy array\n",
    "X = np.sort(X)\n",
    "X"
   ]
  },
  {
   "cell_type": "code",
   "execution_count": 39,
   "id": "3190d06b",
   "metadata": {},
   "outputs": [
    {
     "data": {
      "text/plain": [
       "array([-5., -3.,  0., 10.,  1.])"
      ]
     },
     "execution_count": 39,
     "metadata": {},
     "output_type": "execute_result"
    }
   ],
   "source": [
    "# Given the X numpy array, set the fifth element equal to 1\n",
    "X[4] = 1\n",
    "X"
   ]
  },
  {
   "cell_type": "code",
   "execution_count": 41,
   "id": "bf41cf02",
   "metadata": {},
   "outputs": [
    {
     "data": {
      "text/plain": [
       "array([10, 20, 30, 40])"
      ]
     },
     "execution_count": 41,
     "metadata": {},
     "output_type": "execute_result"
    }
   ],
   "source": [
    "# Given the X numpy array, change the 50 with a 40\n",
    "X = np.array([10, 20, 30, 50])\n",
    "X[3] = 40\n",
    "X"
   ]
  },
  {
   "cell_type": "code",
   "execution_count": 44,
   "id": "75c41876",
   "metadata": {},
   "outputs": [
    {
     "data": {
      "text/plain": [
       "array([[ 1,  2,  3,  4],\n",
       "       [ 5,  6,  7,  8],\n",
       "       [ 9, 10, 11, 12],\n",
       "       [ 1,  1,  1,  1]])"
      ]
     },
     "execution_count": 44,
     "metadata": {},
     "output_type": "execute_result"
    }
   ],
   "source": [
    "# Given the X numpy matrix, change the last row with all 1\n",
    "X = np.array([\n",
    "    [1,   2,  3,  4],\n",
    "    [5,   6,  7,  8],\n",
    "    [9,  10, 11, 12],\n",
    "    [13, 14, 15, 16]\n",
    "])\n",
    "X[-1] = np.ones(shape =4)\n",
    "X"
   ]
  },
  {
   "cell_type": "code",
   "execution_count": 45,
   "id": "dbb2261e",
   "metadata": {},
   "outputs": [
    {
     "data": {
      "text/plain": [
       "array([[ 1,  2,  3,  4],\n",
       "       [ 5,  6,  7,  8],\n",
       "       [ 9, 10, 11, 12],\n",
       "       [ 1,  1,  1,  0]])"
      ]
     },
     "execution_count": 45,
     "metadata": {},
     "output_type": "execute_result"
    }
   ],
   "source": [
    "# Given the X numpy matrix, change the last item on the last row with a 0\n",
    "X[-1][-1] = 0\n",
    "X"
   ]
  },
  {
   "cell_type": "code",
   "execution_count": 46,
   "id": "7067a8dd",
   "metadata": {},
   "outputs": [
    {
     "data": {
      "text/plain": [
       "array([[ 6,  7,  8,  9],\n",
       "       [10, 11, 12, 13],\n",
       "       [14, 15, 16, 17],\n",
       "       [ 6,  6,  6,  5]])"
      ]
     },
     "execution_count": 46,
     "metadata": {},
     "output_type": "execute_result"
    }
   ],
   "source": [
    "# Given the X numpy matrix, add 5 to every element\n",
    "X += 5\n",
    "X"
   ]
  },
  {
   "cell_type": "markdown",
   "id": "8efe4152",
   "metadata": {},
   "source": [
    "### Boolean arrays (also called masks)\n"
   ]
  },
  {
   "cell_type": "code",
   "execution_count": 47,
   "id": "e0a1cd71",
   "metadata": {},
   "outputs": [
    {
     "data": {
      "text/plain": [
       "array([ True, False,  True,  True, False, False,  True,  True,  True,\n",
       "       False])"
      ]
     },
     "execution_count": 47,
     "metadata": {},
     "output_type": "execute_result"
    }
   ],
   "source": [
    "# Given the X numpy array, make a mask showing negative elements\n",
    "X = np.array([-1,2,0,-4,5,6,0,0,-9,10])\n",
    "mask = X <= 0\n",
    "mask "
   ]
  },
  {
   "cell_type": "code",
   "execution_count": 48,
   "id": "c78cb055",
   "metadata": {},
   "outputs": [
    {
     "data": {
      "text/plain": [
       "array([-1, -4, -9])"
      ]
     },
     "execution_count": 48,
     "metadata": {},
     "output_type": "execute_result"
    }
   ],
   "source": [
    "# Given the X numpy array, get the negative elements\n",
    "X[X < 0]"
   ]
  },
  {
   "cell_type": "code",
   "execution_count": 49,
   "id": "066dd0fb",
   "metadata": {},
   "outputs": [
    {
     "data": {
      "text/plain": [
       "array([ 6, 10])"
      ]
     },
     "execution_count": 49,
     "metadata": {},
     "output_type": "execute_result"
    }
   ],
   "source": [
    "# Given the X numpy array, get numbers higher than 5\n",
    "X[X > 5]"
   ]
  },
  {
   "cell_type": "code",
   "execution_count": 51,
   "id": "5d755c59",
   "metadata": {},
   "outputs": [
    {
     "data": {
      "text/plain": [
       "0.9"
      ]
     },
     "execution_count": 51,
     "metadata": {},
     "output_type": "execute_result"
    }
   ],
   "source": [
    "np.mean(X)"
   ]
  },
  {
   "cell_type": "code",
   "execution_count": 50,
   "id": "68d4e810",
   "metadata": {},
   "outputs": [
    {
     "data": {
      "text/plain": [
       "array([ 2,  5,  6, 10])"
      ]
     },
     "execution_count": 50,
     "metadata": {},
     "output_type": "execute_result"
    }
   ],
   "source": [
    "# Given the X numpy array, get numbers higher than the elements mean\n",
    "X[X > np.mean(X)]"
   ]
  },
  {
   "cell_type": "code",
   "execution_count": 56,
   "id": "a52df8fa",
   "metadata": {},
   "outputs": [
    {
     "data": {
      "text/plain": [
       "array([ 2, 10])"
      ]
     },
     "execution_count": 56,
     "metadata": {},
     "output_type": "execute_result"
    }
   ],
   "source": [
    "# Given the X numpy array, get numbers equal to 2 or 10\n",
    "mask = (X == 2) | (X == 10)\n",
    "X[mask]"
   ]
  }
 ],
 "metadata": {
  "kernelspec": {
   "display_name": "Python 3 (ipykernel)",
   "language": "python",
   "name": "python3"
  },
  "language_info": {
   "codemirror_mode": {
    "name": "ipython",
    "version": 3
   },
   "file_extension": ".py",
   "mimetype": "text/x-python",
   "name": "python",
   "nbconvert_exporter": "python",
   "pygments_lexer": "ipython3",
   "version": "3.9.12"
  }
 },
 "nbformat": 4,
 "nbformat_minor": 5
}
